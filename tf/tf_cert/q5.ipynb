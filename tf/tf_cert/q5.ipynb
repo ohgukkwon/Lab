{
  "cells": [
    {
      "cell_type": "code",
      "execution_count": 1,
      "metadata": {
        "id": "81QWXYXxojcn"
      },
      "outputs": [],
      "source": [
        "# Make sure that the model architecture and input, output shapes match our\n",
        "# requirements by printing model.summary() and reviewing its output.\n",
        "#\n",
        "# HINT: If you follow all the rules mentioned above and throughout this\n",
        "# question while training your neural network, there is a possibility that a\n",
        "# validation MAE of approximately 0.055 or less on the normalized validation\n",
        "# dataset may fetch you top marks.\n",
        "import urllib\n",
        "import zipfile\n",
        " \n",
        "import pandas as pd\n",
        "import tensorflow as tf"
      ]
    },
    {
      "cell_type": "code",
      "execution_count": 2,
      "metadata": {
        "colab": {
          "base_uri": "https://localhost:8080/"
        },
        "id": "CrJ0OW9Uoqcz",
        "outputId": "acf40d75-01a0-452e-ab2c-0f0f7668b6ed"
      },
      "outputs": [
        {
          "output_type": "stream",
          "name": "stdout",
          "text": [
            "--2023-01-15 00:11:57--  https://storage.googleapis.com/download.tensorflow.org/data/certificate/household_power.zip\n",
            "Resolving storage.googleapis.com (storage.googleapis.com)... 142.251.12.128, 172.217.194.128, 74.125.68.128, ...\n",
            "Connecting to storage.googleapis.com (storage.googleapis.com)|142.251.12.128|:443... connected.\n",
            "HTTP request sent, awaiting response... 200 OK\n",
            "Length: 859850 (840K) [application/zip]\n",
            "Saving to: ‘household_power.zip’\n",
            "\n",
            "household_power.zip 100%[===================>] 839.70K   642KB/s    in 1.3s    \n",
            "\n",
            "2023-01-15 00:11:58 (642 KB/s) - ‘household_power.zip’ saved [859850/859850]\n",
            "\n"
          ]
        }
      ],
      "source": [
        "import pathlib\n",
        "file1 = pathlib.Path(\"household_power.zip\")\n",
        "file2 = pathlib.Path(\"household_power_consumption.csv\")\n",
        "if file1.exists ():\n",
        "  print(\"CSV file exist\")\n",
        "  if file2.exists():\n",
        "    print(\"Zip file exist\")    \n",
        "else:\n",
        "  !wget 'https://storage.googleapis.com/download.tensorflow.org/data/certificate/household_power.zip'\n",
        "  with zipfile.ZipFile('household_power.zip', 'r') as zip_ref:\n",
        "    zip_ref.extractall()\n"
      ]
    },
    {
      "cell_type": "code",
      "execution_count": 3,
      "metadata": {
        "id": "-kXiESZ2qD4n"
      },
      "outputs": [],
      "source": [
        "# This function normalizes the dataset using min max scaling.\n",
        "# DO NOT CHANGE THIS CODE\n",
        "def normalize_series(data, min, max):\n",
        "   data = data - min\n",
        "   data = data / max\n",
        "   return data"
      ]
    },
    {
      "cell_type": "code",
      "execution_count": 4,
      "metadata": {
        "colab": {
          "base_uri": "https://localhost:8080/"
        },
        "id": "MPSh-ByDxJmp",
        "outputId": "93f12047-c504-4f59-8040-d073cfb27e78"
      },
      "outputs": [
        {
          "output_type": "stream",
          "name": "stdout",
          "text": [
            "Index(['Global_active_power', 'Global_reactive_power', 'Voltage',\n",
            "       'Global_intensity', 'Sub_metering_1', 'Sub_metering_2',\n",
            "       'Sub_metering_3'],\n",
            "      dtype='object')\n",
            "86400\n"
          ]
        }
      ],
      "source": [
        "df = pd.read_csv('household_power_consumption.csv', sep=',', infer_datetime_format=True, index_col='datetime', header=0)\n",
        "print(df.columns)\n",
        "data = df.values\n",
        "data = normalize_series(data, data.min(axis=0), data.max(axis=0)) # the dataframe.min() function to find the minimum value over the index axis, exis=1 is column, exis=1 is row\n",
        "data[:1]\n",
        "print(len(df.index))"
      ]
    },
    {
      "cell_type": "code",
      "execution_count": 5,
      "metadata": {
        "id": "sooT4ZzeqGg-"
      },
      "outputs": [],
      "source": [
        "# This function is used to map the time series dataset into windows of\n",
        "# features and respective targets, to prepare it for training and\n",
        "# validation. First element of the first window will be the first element of\n",
        "# the dataset. Consecutive windows are constructed by shifting\n",
        "# the starting position of the first window forward, one at a time (indicated\n",
        "# by shift=1). For a window of n_past number of observations of all the time\n",
        "# indexed variables in the dataset, the target for the window\n",
        "# is the next n_future number of observations of these variables, after the\n",
        "# end of the window.\n",
        " \n",
        "# DO NOT CHANGE THIS CODE\n",
        "def windowed_dataset(series, batch_size, n_past=24, n_future=24, shift=1):\n",
        "   ds = tf.data.Dataset.from_tensor_slices(series)\n",
        "   ds = ds.window(size=n_past + n_future, shift=shift, drop_remainder=True)\n",
        "   ds = ds.flat_map(lambda w: w.batch(n_past + n_future))\n",
        "   ds = ds.map(lambda w: (w[:n_past], w[n_past:]))\n",
        "   return ds.batch(batch_size).prefetch(1)\n",
        " "
      ]
    },
    {
      "cell_type": "code",
      "execution_count": 7,
      "metadata": {
        "id": "ASIx3vFoqI5S"
      },
      "outputs": [],
      "source": [
        "# COMPLETE THE CODE IN THIS FUNCTION\n",
        "def solution_model(csv_file):\n",
        "   #download_and_extract_data()\n",
        "   # Reads the dataset from the CSV.\n",
        "   df = pd.read_csv(csv_file, sep=',', infer_datetime_format=True, index_col='datetime', header=0)\n",
        " \n",
        "   # Number of features in the dataset. We use all features as predictors to\n",
        "   # predict all features at future time steps.\n",
        "   N_FEATURES = len(df.columns) # DO NOT CHANGE THIS\n",
        " \n",
        "   # Normalizes the data\n",
        "   data = df.values\n",
        "   data = normalize_series(data, data.min(axis=0), data.max(axis=0))\n",
        " \n",
        "   # Splits the data into training and validation sets.\n",
        "   SPLIT_TIME = int(len(data) * 0.5) # DO NOT CHANGE THIS\n",
        "   x_train = data[:SPLIT_TIME]\n",
        "   x_valid = data[SPLIT_TIME:]\n",
        " \n",
        "   # DO NOT CHANGE THIS CODE\n",
        "   tf.keras.backend.clear_session()\n",
        "   tf.random.set_seed(42)\n",
        " \n",
        "   # DO NOT CHANGE BATCH_SIZE IF YOU ARE USING STATEFUL LSTM/RNN/GRU.\n",
        "   # THE TEST WILL FAIL TO GRADE YOUR SCORE IN SUCH CASES.\n",
        "   # In other cases, it is advised not to change the batch size since it\n",
        "   # might affect your final scores. While setting it to a lower size\n",
        "   # might not do any harm, higher sizes might affect your scores.\n",
        "   BATCH_SIZE = 32  # ADVISED NOT TO CHANGE THIS\n",
        " \n",
        "   # DO NOT CHANGE N_PAST, N_FUTURE, SHIFT. The tests will fail to run\n",
        "   # on the server.\n",
        "   # Number of past time steps based on which future observations should be\n",
        "   # predicted\n",
        "   N_PAST = 24  # DO NOT CHANGE THIS\n",
        " \n",
        "   # Number of future time steps which are to be predicted.\n",
        "   N_FUTURE = 24  # DO NOT CHANGE THIS\n",
        " \n",
        "   # By how many positions the window slides to create a new window\n",
        "   # of observations.\n",
        "   SHIFT = 1  # DO NOT CHANGE THIS\n",
        " \n",
        "   # Code to create windowed train and validation datasets.\n",
        "   train_set = windowed_dataset(series=x_train, batch_size=BATCH_SIZE,\n",
        "                                n_past=N_PAST, n_future=N_FUTURE,\n",
        "                                shift=SHIFT)\n",
        "   valid_set = windowed_dataset(series=x_valid, batch_size=BATCH_SIZE,\n",
        "                                n_past=N_PAST, n_future=N_FUTURE,\n",
        "                                shift=SHIFT)\n",
        "   return train_set, valid_set, N_FEATURES, BATCH_SIZE, N_PAST\n",
        "\n",
        "train_set, valid_set, N_FEATURES, BATCH_SIZE, N_PAST = solution_model('household_power_consumption.csv')"
      ]
    },
    {
      "cell_type": "code",
      "source": [
        "#inputs = tf.keras.Input(shape=(N_PAST, N_FEATURES))\n",
        "model = tf.keras.models.Sequential([\n",
        "    tf.keras.layers.LSTM(7, return_sequences=True, input_shape=(24, 24)),\n",
        "#    tf.keras.layers.LSTM(7, return_sequences=True, input_shape=inputs),\n",
        "    tf.keras.layers.Dense(14, activation=\"relu\"),\n",
        "    tf.keras.layers.Dense(N_FEATURES)])\n",
        "\n",
        "model.summary()"
      ],
      "metadata": {
        "colab": {
          "base_uri": "https://localhost:8080/"
        },
        "id": "zXCPwboyaZm-",
        "outputId": "482631c7-c107-4ba5-e2b6-12679d07dca4"
      },
      "execution_count": 8,
      "outputs": [
        {
          "output_type": "stream",
          "name": "stdout",
          "text": [
            "Model: \"sequential\"\n",
            "_________________________________________________________________\n",
            " Layer (type)                Output Shape              Param #   \n",
            "=================================================================\n",
            " lstm (LSTM)                 (None, 24, 7)             896       \n",
            "                                                                 \n",
            " dense (Dense)               (None, 24, 14)            112       \n",
            "                                                                 \n",
            " dense_1 (Dense)             (None, 24, 7)             105       \n",
            "                                                                 \n",
            "=================================================================\n",
            "Total params: 1,113\n",
            "Trainable params: 1,113\n",
            "Non-trainable params: 0\n",
            "_________________________________________________________________\n"
          ]
        }
      ]
    },
    {
      "cell_type": "code",
      "execution_count": null,
      "metadata": {
        "colab": {
          "base_uri": "https://localhost:8080/"
        },
        "id": "LDHT1vd5n1Jg",
        "outputId": "58417c09-bdbe-44e2-ef81-9e6b923a4125"
      },
      "outputs": [
        {
          "output_type": "stream",
          "name": "stdout",
          "text": [
            "Model: \"sequential_1\"\n",
            "_________________________________________________________________\n",
            " Layer (type)                Output Shape              Param #   \n",
            "=================================================================\n",
            " lstm_2 (LSTM)               (None, 24, 7)             420       \n",
            "                                                                 \n",
            " dense_2 (Dense)             (None, 24, 14)            112       \n",
            "                                                                 \n",
            " dense_3 (Dense)             (None, 24, 7)             105       \n",
            "                                                                 \n",
            "=================================================================\n",
            "Total params: 637\n",
            "Trainable params: 637\n",
            "Non-trainable params: 0\n",
            "_________________________________________________________________\n"
          ]
        }
      ],
      "source": [
        "# Code to define your model.\n",
        "model = tf.keras.models.Sequential([\n",
        "#    tf.keras.layers.LSTM(7, return_sequences=True, input_shape=(24, 24)),\n",
        "    tf.keras.layers.LSTM(7, return_sequences=True, input_shape=(N_PAST, N_FEATURES)),   #batch_size = 7 days, n_past = 24 hr, n_features = total data's qty ( len(df.columns)  )\n",
        "    tf.keras.layers.Dense(14, activation=\"relu\"),\n",
        "    tf.keras.layers.Dense(N_FEATURES)])\n",
        "\n",
        "model.summary()\n",
        "\n"
      ]
    },
    {
      "cell_type": "code",
      "source": [
        "optimizer =  tf.keras.optimizers.SGD(lr=1e-8, momentum=0.9)\n",
        "model.compile(\n",
        "    loss=\"mse\",\n",
        "    optimizer=optimizer,\n",
        "    metrics=[\"mae\"]\n",
        ")\n",
        "model.fit(train_set, validation_data=valid_set,validation_steps=100, epochs=20)"
      ],
      "metadata": {
        "id": "k-v72rXrUgJg"
      },
      "execution_count": null,
      "outputs": []
    },
    {
      "cell_type": "markdown",
      "source": [
        "   #### It is fail\n",
        "model = tf.keras.models.Sequential([\n",
        "      tf.keras.layers.Conv1D(filters=64, kernel_size=3,\n",
        "                          strides=1,\n",
        "                          activation=\"relu\",\n",
        "                          padding='causal',\n",
        "                          input_shape=[G.WINDOW_SIZE, 1]),\n",
        "      tf.keras.layers.LSTM(64, return_sequences=True),\n",
        "      tf.keras.layers.LSTM(64),\n",
        "      tf.keras.layers.Dense(30, activation=\"relu\"),\n",
        "      tf.keras.layers.Dense(10, activation=\"relu\"),\n",
        "      tf.keras.layers.Dense(1),\n",
        "      tf.keras.layers.Lambda(lambda x: x * 400)\n",
        "    ])\n",
        "    "
      ],
      "metadata": {
        "id": "mpb2GVCdbDWv"
      }
    },
    {
      "cell_type": "code",
      "source": [
        "   #### It is fail\n",
        "'''    model = tf.keras.models.Sequential([\n",
        "      tf.keras.layers.Conv1D(filters=64, kernel_size=3,\n",
        "                          strides=1,\n",
        "                          activation=\"relu\",\n",
        "                          padding='causal',\n",
        "                          input_shape=[G.WINDOW_SIZE, 1]),\n",
        "      tf.keras.layers.LSTM(64, return_sequences=True),\n",
        "      tf.keras.layers.LSTM(64),\n",
        "      tf.keras.layers.Dense(30, activation=\"relu\"),\n",
        "      tf.keras.layers.Dense(10, activation=\"relu\"),\n",
        "      tf.keras.layers.Dense(1),\n",
        "      tf.keras.layers.Lambda(lambda x: x * 400)\n",
        "    ])'''\n",
        "    "
      ],
      "metadata": {
        "id": "cNz07nhRa9Lf"
      },
      "execution_count": null,
      "outputs": []
    },
    {
      "cell_type": "code",
      "execution_count": null,
      "metadata": {
        "id": "AhgRCk-EqciP"
      },
      "outputs": [],
      "source": [
        "model.save(\"mymodelq5.h5\")"
      ]
    },
    {
      "cell_type": "code",
      "execution_count": null,
      "metadata": {
        "id": "oueHa0HTpHOq"
      },
      "outputs": [],
      "source": [
        "# Note that you'll need to save your model as a .h5 like this.\n",
        "# When you press the Submit and Test button, your saved .h5 model will\n",
        "# be sent to the testing infrastructure for scoring\n",
        "# and the score will be returned to you.\n",
        " \n",
        "'''if __name__ == '__main__':\n",
        "   model = solution_model()\n",
        "   model.save(\"mymodel.h5\")\n",
        " '''\n",
        " \n",
        "# THIS CODE IS USED IN THE TESTER FOR FORECASTING. IF YOU WANT TO TEST YOUR MODEL\n",
        "# BEFORE UPLOADING YOU CAN DO IT WITH THIS\n",
        "#def mae(y_true, y_pred):\n",
        "#    return np.mean(abs(y_true.ravel() - y_pred.ravel()))\n",
        "#\n",
        "#\n",
        "#def model_forecast(model, series, window_size, batch_size):\n",
        "#    ds = tf.data.Dataset.from_tensor_slices(series)\n",
        "#    ds = ds.window(window_size, shift=1, drop_remainder=True)\n",
        "#    ds = ds.flat_map(lambda w: w.batch(window_size))\n",
        "#    ds = ds.batch(batch_size, drop_remainder=True).prefetch(1)\n",
        "#    forecast = model.predict(ds)\n",
        "#    return forecast\n",
        "#\n",
        " \n",
        "# PASS THE NORMALIZED data IN THE FOLLOWING CODE\n",
        " \n",
        "#rnn_forecast = model_forecast(model, data, N_PAST, BATCH_SIZE)\n",
        "#rnn_forecast = rnn_forecast[SPLIT_TIME - N_PAST:-1, 0, :]\n",
        " \n",
        "#x_valid = x_valid[:rnn_forecast.shape[0]]\n",
        "#result = mae(x_valid, rnn_forecast)\n",
        "\n",
        "\n",
        "\n",
        "\n",
        "\n",
        " \n",
        "# ADD YOUR LAYERS HERE.\n",
        " \n",
        "# If you don't follow the instructions in the following comments,\n",
        "# tests will fail to grade your code:\n",
        "# The input layer of your model must have an input shape of:\n",
        "# (BATCH_SIZE, N_PAST = 24, N_FEATURES = 7)\n",
        "# The model must have an output shape of:\n",
        "# (BATCH_SIZE, N_FUTURE = 24, N_FEATURES = 7).\n",
        "# Make sure that there are N_FEATURES = 7 neurons in the final dense\n",
        "# layer since the model predicts 7 features.\n",
        " \n",
        "# HINT: Bidirectional LSTMs may help boost your score. This is only a\n",
        "# suggestion.\n",
        " \n",
        "# WARNING: After submitting the trained model for scoring, if you are\n",
        "# receiving a score of 0 or an error, please recheck the input and\n",
        "# output shapes of the model to see if it exactly matches our requirements.\n",
        "# The grading infrastructure is very strict about the shape requirements.\n",
        "# Most common issues occur when the shapes are not matching our\n",
        "# expectations.\n",
        "#\n",
        "# TIP: You can print the output of model.summary() to review the model\n",
        "# architecture, input and output shapes of each layer.\n",
        "# If you have made sure that you have matched the shape requirements\n",
        "# and all the other instructions we have laid down, and still\n",
        "# receive a bad score, you must work on improving your model.\n",
        " \n",
        "# WARNING: If you are using the GRU layer, it is advised not to use the\n",
        "# recurrent_dropout argument (you can alternatively set it to 0),\n",
        "# since it has not been implemented in the cuDNN kernel and may\n",
        "# result in much longer training times."
      ]
    }
  ],
  "metadata": {
    "accelerator": "GPU",
    "colab": {
      "provenance": []
    },
    "gpuClass": "standard",
    "kernelspec": {
      "display_name": "Python 3",
      "name": "python3"
    },
    "language_info": {
      "name": "python"
    }
  },
  "nbformat": 4,
  "nbformat_minor": 0
}