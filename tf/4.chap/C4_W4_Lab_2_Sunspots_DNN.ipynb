{
  "cells": [
    {
      "cell_type": "markdown",
      "metadata": {
        "id": "CcDMtzD94IHh"
      },
      "source": [
        "<a href=\"https://colab.research.google.com/github/https-deeplearning-ai/tensorflow-1-public/blob/main/C4/W4/ungraded_labs/C4_W4_Lab_2_Sunspots_DNN.ipynb\" target=\"_parent\"><img src=\"https://colab.research.google.com/assets/colab-badge.svg\" alt=\"Open In Colab\"/></a>"
      ]
    },
    {
      "cell_type": "markdown",
      "metadata": {
        "id": "JQsk1BKwZrBh"
      },
      "source": [
        "# Ungraded Lab: Predicting Sunspots with Neural Networks (DNN only)\n",
        "\n",
        "In the remaining labs for this week, you will move away from synthetic time series and start building models for real world data. In particular, you will train on the [Sunspots](https://www.kaggle.com/datasets/robervalt/sunspots) dataset: a monthly record of sunspot numbers from January 1749 to July 2018. You will first build a deep neural network here composed of dense layers. This will act as your baseline so you can compare it to the next lab where you will use a more complex architecture.\n",
        "\n",
        "Let's begin!"
      ]
    },
    {
      "cell_type": "markdown",
      "metadata": {
        "id": "2JHlrB12aeFD"
      },
      "source": [
        "## Imports\n",
        "\n",
        "You will use the same imports as before with the addition of the [csv](https://docs.python.org/3/library/csv.html) module. You will need this to parse the CSV file containing the dataset."
      ]
    },
    {
      "cell_type": "code",
      "execution_count": 1,
      "metadata": {
        "id": "56XEQOGknrAk"
      },
      "outputs": [
        {
          "name": "stderr",
          "output_type": "stream",
          "text": [
            "c:\\Python38\\lib\\site-packages\\numpy\\_distributor_init.py:30: UserWarning: loaded more than 1 DLL from .libs:\n",
            "c:\\Python38\\lib\\site-packages\\numpy\\.libs\\libopenblas.WCDJNK7YVMPZQ2ME2ZZHJJRJ3JIKNDB7.gfortran-win_amd64.dll\n",
            "c:\\Python38\\lib\\site-packages\\numpy\\.libs\\libopenblas.XWYDX2IKJW2NMTWSFYNGFUWKQU3LYTCZ.gfortran-win_amd64.dll\n",
            "  warnings.warn(\"loaded more than 1 DLL from .libs:\"\n"
          ]
        }
      ],
      "source": [
        "import tensorflow as tf\n",
        "import numpy as np\n",
        "import matplotlib.pyplot as plt\n",
        "import csv"
      ]
    },
    {
      "cell_type": "markdown",
      "metadata": {
        "id": "D-mNttnaagBH"
      },
      "source": [
        "## Utilities\n",
        "\n",
        "You will only have the `plot_series()` dataset here because you no longer need the synthetic data generation functions."
      ]
    },
    {
      "cell_type": "code",
      "execution_count": 2,
      "metadata": {
        "id": "sLl52leVp5wU"
      },
      "outputs": [],
      "source": [
        "def plot_series(x, y, format=\"-\", start=0, end=None, \n",
        "                title=None, xlabel=None, ylabel=None, legend=None ):\n",
        "    \"\"\"\n",
        "    Visualizes time series data\n",
        "\n",
        "    Args:\n",
        "      x (array of int) - contains values for the x-axis\n",
        "      y (array of int or tuple of arrays) - contains the values for the y-axis\n",
        "      format (string) - line style when plotting the graph\n",
        "      label (string) - tag for the line\n",
        "      start (int) - first time step to plot\n",
        "      end (int) - last time step to plot\n",
        "      title (string) - title of the plot\n",
        "      xlabel (string) - label for the x-axis\n",
        "      ylabel (string) - label for the y-axis\n",
        "      legend (list of strings) - legend for the plot\n",
        "    \"\"\"\n",
        "\n",
        "    # Setup dimensions of the graph figure\n",
        "    plt.figure(figsize=(10, 6))\n",
        "    \n",
        "    # Check if there are more than two series to plot\n",
        "    if type(y) is tuple:\n",
        "\n",
        "      # Loop over the y elements\n",
        "      for y_curr in y:\n",
        "\n",
        "        # Plot the x and current y values\n",
        "        plt.plot(x[start:end], y_curr[start:end], format)\n",
        "\n",
        "    else:\n",
        "      # Plot the x and y values\n",
        "      plt.plot(x[start:end], y[start:end], format)\n",
        "\n",
        "    # Label the x-axis\n",
        "    plt.xlabel(xlabel)\n",
        "\n",
        "    # Label the y-axis\n",
        "    plt.ylabel(ylabel)\n",
        "\n",
        "    # Set the legend\n",
        "    if legend:\n",
        "      plt.legend(legend)\n",
        "\n",
        "    # Set the title\n",
        "    plt.title(title)\n",
        "\n",
        "    # Overlay a grid on the graph\n",
        "    plt.grid(True)\n",
        "\n",
        "    # Draw the graph on screen\n",
        "    plt.show()"
      ]
    },
    {
      "cell_type": "markdown",
      "metadata": {
        "id": "dFJv45pDauS8"
      },
      "source": [
        "## Download and Preview the Dataset\n",
        "\n",
        "You can now download the dataset and inspect the contents. The link in class is from Laurence's repo but we also hosted it in the link below."
      ]
    },
    {
      "cell_type": "code",
      "execution_count": 7,
      "metadata": {
        "id": "YwI-si5xyUkQ"
      },
      "outputs": [
        {
          "data": {
            "text/plain": [
              "'Sunspots.csv'"
            ]
          },
          "execution_count": 7,
          "metadata": {},
          "output_type": "execute_result"
        }
      ],
      "source": [
        "# Download the dataset\n",
        "import wget\n",
        "#!wget https://storage.googleapis.com/tensorflow-1-public/course4/Sunspots.csv\n",
        "url ='https://storage.googleapis.com/tensorflow-1-public/course4/Sunspots.csv'\n",
        "\n",
        "wget.download(url)"
      ]
    },
    {
      "cell_type": "markdown",
      "metadata": {
        "id": "c0fAiMytrwPJ"
      },
      "source": [
        "Running the cell below, you'll see that there are only three columns in the dataset:\n",
        "1. untitled column containing the month number\n",
        "2. Date which has the format `YYYY-MM-DD`\n",
        "3. Mean Total Sunspot Number"
      ]
    },
    {
      "cell_type": "code",
      "execution_count": 4,
      "metadata": {
        "id": "d5W2auXKrhVh"
      },
      "outputs": [
        {
          "name": "stderr",
          "output_type": "stream",
          "text": [
            "'head' is not recognized as an internal or external command,\n",
            "operable program or batch file.\n"
          ]
        }
      ],
      "source": [
        "# Preview the dataset\n",
        "!head Sunspots.csv"
      ]
    },
    {
      "cell_type": "markdown",
      "metadata": {
        "id": "lbs-Y2SDsVaw"
      },
      "source": [
        "For this lab and the next, you will only need the month number and the mean total sunspot number. You will load those into memory and convert it to arrays that represents a time series."
      ]
    },
    {
      "cell_type": "code",
      "execution_count": 8,
      "metadata": {
        "id": "NcG9r1eClbTh"
      },
      "outputs": [
        {
          "data": {
            "image/png": "[encoded data removed]",
            "text/plain": [
              "<Figure size 720x432 with 1 Axes>"
            ]
          },
          "metadata": {
            "needs_background": "light"
          },
          "output_type": "display_data"
        }
      ],
      "source": [
        "# Initialize lists\n",
        "time_step = []\n",
        "sunspots = []\n",
        "\n",
        "# Open CSV file\n",
        "with open('./Sunspots.csv') as csvfile:\n",
        "  \n",
        "  # Initialize reader\n",
        "  reader = csv.reader(csvfile, delimiter=',')\n",
        "  \n",
        "  # Skip the first line\n",
        "  next(reader)\n",
        "  \n",
        "  # Append row and sunspot number to lists\n",
        "  for row in reader:\n",
        "    time_step.append(int(row[0]))\n",
        "    sunspots.append(float(row[2]))\n",
        "\n",
        "# Convert lists to numpy arrays\n",
        "time = np.array(time_step)\n",
        "series = np.array(sunspots)\n",
        "\n",
        "# Preview the data\n",
        "plot_series(time, series, xlabel='Month', ylabel='Monthly Mean Total Sunspot Number')"
      ]
    },
    {
      "cell_type": "markdown",
      "metadata": {
        "id": "EUQE9RRoazC5"
      },
      "source": [
        "## Split the Dataset\n",
        "\n",
        "Next, you will split the dataset into training and validation sets. There are 3235 points in the dataset and you will use the first 3000 for training."
      ]
    },
    {
      "cell_type": "code",
      "execution_count": 9,
      "metadata": {
        "id": "L92YRw_IpCFG"
      },
      "outputs": [],
      "source": [
        "# Define the split time\n",
        "split_time = 3000\n",
        "\n",
        "# Get the train set \n",
        "time_train = time[:split_time]\n",
        "x_train = series[:split_time]\n",
        "\n",
        "# Get the validation set\n",
        "time_valid = time[split_time:]\n",
        "x_valid = series[split_time:]"
      ]
    },
    {
      "cell_type": "markdown",
      "metadata": {
        "id": "RbuIOrb3a093"
      },
      "source": [
        "## Prepare Features and Labels\n",
        "\n",
        "You can then prepare the dataset windows as before. The window size is set to 30 points (equal to 2.5 years) but feel free to change later on if you want to experiment."
      ]
    },
    {
      "cell_type": "code",
      "execution_count": 10,
      "metadata": {
        "id": "lJwUUZscnG38"
      },
      "outputs": [],
      "source": [
        "def windowed_dataset(series, window_size, batch_size, shuffle_buffer):\n",
        "    \"\"\"Generates dataset windows\n",
        "\n",
        "    Args:\n",
        "      series (array of float) - contains the values of the time series\n",
        "      window_size (int) - the number of time steps to include in the feature\n",
        "      batch_size (int) - the batch size\n",
        "      shuffle_buffer(int) - buffer size to use for the shuffle method\n",
        "\n",
        "    Returns:\n",
        "      dataset (TF Dataset) - TF Dataset containing time windows\n",
        "    \"\"\"\n",
        "  \n",
        "    # Generate a TF Dataset from the series values\n",
        "    dataset = tf.data.Dataset.from_tensor_slices(series)\n",
        "    \n",
        "    # Window the data but only take those with the specified size\n",
        "    dataset = dataset.window(window_size + 1, shift=1, drop_remainder=True)\n",
        "    \n",
        "    # Flatten the windows by putting its elements in a single batch\n",
        "    dataset = dataset.flat_map(lambda window: window.batch(window_size + 1))\n",
        "\n",
        "    # Create tuples with features and labels \n",
        "    dataset = dataset.map(lambda window: (window[:-1], window[-1]))\n",
        "\n",
        "    # Shuffle the windows\n",
        "    dataset = dataset.shuffle(shuffle_buffer)\n",
        "    \n",
        "    # Create batches of windows\n",
        "    dataset = dataset.batch(batch_size).prefetch(1)\n",
        "    \n",
        "    return dataset"
      ]
    },
    {
      "cell_type": "code",
      "execution_count": 11,
      "metadata": {
        "id": "9g5zSxZwZQt_"
      },
      "outputs": [],
      "source": [
        "# Parameters\n",
        "window_size = 30\n",
        "batch_size = 32\n",
        "shuffle_buffer_size = 1000\n",
        "\n",
        "# Generate the dataset windows\n",
        "train_set = windowed_dataset(x_train, window_size, batch_size, shuffle_buffer_size)"
      ]
    },
    {
      "cell_type": "markdown",
      "metadata": {
        "id": "_Lhpi42ta5yP"
      },
      "source": [
        "## Build the Model\n",
        "\n",
        "The model will be 3-layer dense network as shown below."
      ]
    },
    {
      "cell_type": "code",
      "execution_count": 12,
      "metadata": {
        "id": "AclfYY3Mn6Ph"
      },
      "outputs": [
        {
          "name": "stdout",
          "output_type": "stream",
          "text": [
            "Model: \"sequential\"\n",
            "_________________________________________________________________\n",
            "Layer (type)                 Output Shape              Param #   \n",
            "=================================================================\n",
            "dense (Dense)                (None, 30)                930       \n",
            "_________________________________________________________________\n",
            "dense_1 (Dense)              (None, 10)                310       \n",
            "_________________________________________________________________\n",
            "dense_2 (Dense)              (None, 1)                 11        \n",
            "=================================================================\n",
            "Total params: 1,251\n",
            "Trainable params: 1,251\n",
            "Non-trainable params: 0\n",
            "_________________________________________________________________\n"
          ]
        }
      ],
      "source": [
        "# Build the model\n",
        "model = tf.keras.models.Sequential([\n",
        "    tf.keras.layers.Dense(30, input_shape=[window_size], activation=\"relu\"), \n",
        "    tf.keras.layers.Dense(10, activation=\"relu\"),\n",
        "    tf.keras.layers.Dense(1)\n",
        "])\n",
        "\n",
        "# Print the model summary\n",
        "model.summary()"
      ]
    },
    {
      "cell_type": "markdown",
      "metadata": {
        "id": "uyT14hQOa97V"
      },
      "source": [
        "## Tune the Learning Rate\n",
        "\n",
        "You can pick a learning rate by running the same learning rate scheduler code from previous labs."
      ]
    },
    {
      "cell_type": "code",
      "execution_count": 13,
      "metadata": {
        "id": "GXiqsZQ1y4nD"
      },
      "outputs": [
        {
          "name": "stdout",
          "output_type": "stream",
          "text": [
            "Epoch 1/100\n",
            "93/93 [==============================] - 5s 17ms/step - loss: 237.7647\n",
            "Epoch 2/100\n",
            "93/93 [==============================] - 1s 10ms/step - loss: 234.0259\n",
            "Epoch 3/100\n",
            "93/93 [==============================] - 1s 7ms/step - loss: 229.8674\n",
            "Epoch 4/100\n",
            "93/93 [==============================] - 1s 6ms/step - loss: 225.2996\n",
            "Epoch 5/100\n",
            "93/93 [==============================] - 1s 6ms/step - loss: 220.3092\n",
            "Epoch 6/100\n",
            "93/93 [==============================] - 1s 6ms/step - loss: 214.8988\n",
            "Epoch 7/100\n",
            "93/93 [==============================] - 1s 6ms/step - loss: 209.0718\n",
            "Epoch 8/100\n",
            "93/93 [==============================] - 1s 7ms/step - loss: 202.8936\n",
            "Epoch 9/100\n",
            "93/93 [==============================] - 1s 10ms/step - loss: 196.4206\n",
            "Epoch 10/100\n",
            "93/93 [==============================] - 1s 9ms/step - loss: 189.7790\n",
            "Epoch 11/100\n",
            "93/93 [==============================] - 1s 10ms/step - loss: 183.0269\n",
            "Epoch 12/100\n",
            "93/93 [==============================] - 1s 11ms/step - loss: 176.2008\n",
            "Epoch 13/100\n",
            "93/93 [==============================] - 1s 10ms/step - loss: 169.2746: 0s - loss\n",
            "Epoch 14/100\n",
            "93/93 [==============================] - 1s 10ms/step - loss: 162.2880\n",
            "Epoch 15/100\n",
            "93/93 [==============================] - 1s 10ms/step - loss: 155.2895\n",
            "Epoch 16/100\n",
            "93/93 [==============================] - 1s 11ms/step - loss: 148.3111: 0s - loss: 140\n",
            "Epoch 17/100\n",
            "93/93 [==============================] - 2s 11ms/step - loss: 141.2883\n",
            "Epoch 18/100\n",
            "93/93 [==============================] - 1s 9ms/step - loss: 134.2524\n",
            "Epoch 19/100\n",
            "93/93 [==============================] - 1s 11ms/step - loss: 127.2323\n",
            "Epoch 20/100\n",
            "93/93 [==============================] - 1s 11ms/step - loss: 120.2772\n",
            "Epoch 21/100\n",
            "93/93 [==============================] - 1s 10ms/step - loss: 113.5365\n",
            "Epoch 22/100\n",
            "93/93 [==============================] - 1s 10ms/step - loss: 107.1342\n",
            "Epoch 23/100\n",
            "93/93 [==============================] - 1s 9ms/step - loss: 101.2167\n",
            "Epoch 24/100\n",
            "93/93 [==============================] - 1s 10ms/step - loss: 96.0877\n",
            "Epoch 25/100\n",
            "93/93 [==============================] - 1s 10ms/step - loss: 92.0953\n",
            "Epoch 26/100\n",
            "93/93 [==============================] - 1s 10ms/step - loss: 89.3115\n",
            "Epoch 27/100\n",
            "93/93 [==============================] - 1s 9ms/step - loss: 87.5519\n",
            "Epoch 28/100\n",
            "93/93 [==============================] - 1s 9ms/step - loss: 86.4172\n",
            "Epoch 29/100\n",
            "93/93 [==============================] - 1s 9ms/step - loss: 85.6434\n",
            "Epoch 30/100\n",
            "93/93 [==============================] - 1s 8ms/step - loss: 85.0637\n",
            "Epoch 31/100\n",
            "93/93 [==============================] - 1s 8ms/step - loss: 84.5970\n",
            "Epoch 32/100\n",
            "93/93 [==============================] - 1s 9ms/step - loss: 84.2300\n",
            "Epoch 33/100\n",
            "93/93 [==============================] - 1s 9ms/step - loss: 83.9209: \n",
            "Epoch 34/100\n",
            "93/93 [==============================] - 1s 9ms/step - loss: 83.6549\n",
            "Epoch 35/100\n",
            "93/93 [==============================] - 1s 9ms/step - loss: 83.4288\n",
            "Epoch 36/100\n",
            "93/93 [==============================] - 1s 9ms/step - loss: 83.2377\n",
            "Epoch 37/100\n",
            "93/93 [==============================] - 1s 9ms/step - loss: 83.0692\n",
            "Epoch 38/100\n",
            "93/93 [==============================] - 1s 9ms/step - loss: 82.9157: 0s - loss: 82.50\n",
            "Epoch 39/100\n",
            "93/93 [==============================] - 1s 9ms/step - loss: 82.7714\n",
            "Epoch 40/100\n",
            "93/93 [==============================] - 1s 9ms/step - loss: 82.6295\n",
            "Epoch 41/100\n",
            "93/93 [==============================] - 1s 8ms/step - loss: 82.4700\n",
            "Epoch 42/100\n",
            "93/93 [==============================] - 1s 10ms/step - loss: 82.2423\n",
            "Epoch 43/100\n",
            "93/93 [==============================] - 1s 9ms/step - loss: 81.7365\n",
            "Epoch 44/100\n",
            "93/93 [==============================] - 1s 10ms/step - loss: 76.3689\n",
            "Epoch 45/100\n",
            "93/93 [==============================] - 1s 9ms/step - loss: 45.0457: 0s\n",
            "Epoch 46/100\n",
            "93/93 [==============================] - 1s 8ms/step - loss: 31.8706: 0s - loss: 3\n",
            "Epoch 47/100\n",
            "93/93 [==============================] - 1s 9ms/step - loss: 29.2571\n",
            "Epoch 48/100\n",
            "93/93 [==============================] - 1s 9ms/step - loss: 26.4388\n",
            "Epoch 49/100\n",
            "93/93 [==============================] - 1s 10ms/step - loss: 23.9287\n",
            "Epoch 50/100\n",
            "93/93 [==============================] - 1s 9ms/step - loss: 22.0947\n",
            "Epoch 51/100\n",
            "93/93 [==============================] - 1s 9ms/step - loss: 21.2281\n",
            "Epoch 52/100\n",
            "93/93 [==============================] - 1s 8ms/step - loss: 20.7602\n",
            "Epoch 53/100\n",
            "93/93 [==============================] - 1s 9ms/step - loss: 20.4859: \n",
            "Epoch 54/100\n",
            "93/93 [==============================] - 1s 8ms/step - loss: 20.2882\n",
            "Epoch 55/100\n",
            "93/93 [==============================] - 1s 9ms/step - loss: 20.0644\n",
            "Epoch 56/100\n",
            "93/93 [==============================] - 1s 9ms/step - loss: 19.7813\n",
            "Epoch 57/100\n",
            "93/93 [==============================] - 1s 10ms/step - loss: 19.4426\n",
            "Epoch 58/100\n",
            "93/93 [==============================] - ETA: 0s - loss: 19.03 - 1s 9ms/step - loss: 19.2263\n",
            "Epoch 59/100\n",
            "93/93 [==============================] - 1s 9ms/step - loss: 19.0021\n",
            "Epoch 60/100\n",
            "93/93 [==============================] - 1s 9ms/step - loss: 18.8513\n",
            "Epoch 61/100\n",
            "93/93 [==============================] - 1s 9ms/step - loss: 18.5489\n",
            "Epoch 62/100\n",
            "93/93 [==============================] - 1s 11ms/step - loss: 18.4742\n",
            "Epoch 63/100\n",
            "93/93 [==============================] - 1s 9ms/step - loss: 18.1971: 0s - loss: 18.10\n",
            "Epoch 64/100\n",
            "93/93 [==============================] - 1s 8ms/step - loss: 18.1465\n",
            "Epoch 65/100\n",
            "93/93 [==============================] - 1s 9ms/step - loss: 17.9890\n",
            "Epoch 66/100\n",
            "93/93 [==============================] - 1s 9ms/step - loss: 17.8611\n",
            "Epoch 67/100\n",
            "93/93 [==============================] - 1s 8ms/step - loss: 17.8658\n",
            "Epoch 68/100\n",
            "93/93 [==============================] - 1s 9ms/step - loss: 17.6340\n",
            "Epoch 69/100\n",
            "93/93 [==============================] - 1s 8ms/step - loss: 17.9904\n",
            "Epoch 70/100\n",
            "93/93 [==============================] - 1s 9ms/step - loss: 18.2509\n",
            "Epoch 71/100\n",
            "93/93 [==============================] - 1s 9ms/step - loss: 17.4916\n",
            "Epoch 72/100\n",
            "93/93 [==============================] - 1s 8ms/step - loss: 17.6590\n",
            "Epoch 73/100\n",
            "93/93 [==============================] - 1s 9ms/step - loss: 17.8906\n",
            "Epoch 74/100\n",
            "93/93 [==============================] - 1s 9ms/step - loss: 17.7426\n",
            "Epoch 75/100\n",
            "93/93 [==============================] - 1s 10ms/step - loss: 17.5359\n",
            "Epoch 76/100\n",
            "93/93 [==============================] - 1s 9ms/step - loss: 17.4148\n",
            "Epoch 77/100\n",
            "93/93 [==============================] - 1s 9ms/step - loss: 17.5682\n",
            "Epoch 78/100\n",
            "93/93 [==============================] - 1s 10ms/step - loss: 17.4288\n",
            "Epoch 79/100\n",
            "93/93 [==============================] - 1s 10ms/step - loss: 18.2024\n",
            "Epoch 80/100\n",
            "93/93 [==============================] - 1s 9ms/step - loss: 17.4880\n",
            "Epoch 81/100\n",
            "93/93 [==============================] - 1s 10ms/step - loss: 17.9708\n",
            "Epoch 82/100\n",
            "93/93 [==============================] - 1s 9ms/step - loss: 17.8985: 0s - loss: 17.56\n",
            "Epoch 83/100\n",
            "93/93 [==============================] - 2s 10ms/step - loss: 18.3515\n",
            "Epoch 84/100\n",
            "93/93 [==============================] - 1s 10ms/step - loss: 18.1470 0s - loss: 1 - ETA: 0s - loss: 1\n",
            "Epoch 85/100\n",
            "93/93 [==============================] - 1s 10ms/step - loss: 20.3301\n",
            "Epoch 86/100\n",
            "93/93 [==============================] - 1s 8ms/step - loss: 18.1750\n",
            "Epoch 87/100\n",
            "93/93 [==============================] - 1s 10ms/step - loss: 19.8404\n",
            "Epoch 88/100\n",
            "93/93 [==============================] - 2s 12ms/step - loss: 18.2097\n",
            "Epoch 89/100\n",
            "93/93 [==============================] - 1s 9ms/step - loss: 18.4083\n",
            "Epoch 90/100\n",
            "93/93 [==============================] - 1s 9ms/step - loss: 18.6205\n",
            "Epoch 91/100\n",
            "93/93 [==============================] - 1s 8ms/step - loss: 20.5863\n",
            "Epoch 92/100\n",
            "93/93 [==============================] - 1s 9ms/step - loss: 18.8942\n",
            "Epoch 93/100\n",
            "93/93 [==============================] - 1s 9ms/step - loss: 22.5186\n",
            "Epoch 94/100\n",
            "93/93 [==============================] - 1s 10ms/step - loss: 21.1549 0s - loss: 2\n",
            "Epoch 95/100\n",
            "93/93 [==============================] - 1s 11ms/step - loss: 20.8798\n",
            "Epoch 96/100\n",
            "93/93 [==============================] - 1s 9ms/step - loss: 24.1055\n",
            "Epoch 97/100\n",
            "93/93 [==============================] - 1s 9ms/step - loss: 23.5597\n",
            "Epoch 98/100\n",
            "93/93 [==============================] - 1s 9ms/step - loss: 31.0295\n",
            "Epoch 99/100\n",
            "93/93 [==============================] - 1s 8ms/step - loss: 26.1453\n",
            "Epoch 100/100\n",
            "93/93 [==============================] - 1s 10ms/step - loss: 29.5468\n"
          ]
        }
      ],
      "source": [
        "# Set the learning rate scheduler\n",
        "lr_schedule = tf.keras.callbacks.LearningRateScheduler(\n",
        "    lambda epoch: 1e-8 * 10**(epoch / 20))\n",
        "\n",
        "# Initialize the optimizer\n",
        "optimizer = tf.keras.optimizers.SGD(momentum=0.9)\n",
        "\n",
        "# Set the training parameters\n",
        "model.compile(loss=tf.keras.losses.Huber(), optimizer=optimizer)\n",
        "\n",
        "# Train the model\n",
        "history = model.fit(train_set, epochs=100, callbacks=[lr_schedule])"
      ]
    },
    {
      "cell_type": "code",
      "execution_count": 14,
      "metadata": {
        "id": "xJFAB1NTzGJV"
      },
      "outputs": [
        {
          "data": {
            "text/plain": [
              "(1e-08, 0.001, 0.0, 100.0)"
            ]
          },
          "execution_count": 14,
          "metadata": {},
          "output_type": "execute_result"
        },
        {
          "data": {
            "image/png": "[encoded data removed]",
            "text/plain": [
              "<Figure size 720x432 with 1 Axes>"
            ]
          },
          "metadata": {
            "needs_background": "light"
          },
          "output_type": "display_data"
        }
      ],
      "source": [
        "# Define the learning rate array\n",
        "lrs = 1e-8 * (10 ** (np.arange(100) / 20))\n",
        "\n",
        "# Set the figure size\n",
        "plt.figure(figsize=(10, 6))\n",
        "\n",
        "# Set the grid\n",
        "plt.grid(True)\n",
        "\n",
        "# Plot the loss in log scale\n",
        "plt.semilogx(lrs, history.history[\"loss\"])\n",
        "\n",
        "# Increase the tickmarks size\n",
        "plt.tick_params('both', length=10, width=1, which='both')\n",
        "\n",
        "# Set the plot boundaries\n",
        "plt.axis([1e-8, 1e-3, 0, 100])"
      ]
    },
    {
      "cell_type": "markdown",
      "metadata": {
        "id": "oY4mnUpNbFdc"
      },
      "source": [
        "## Train the Model\n",
        "\n",
        "Once you've picked a learning rate, you can rebuild the model and start training."
      ]
    },
    {
      "cell_type": "code",
      "execution_count": 15,
      "metadata": {
        "id": "Ngna3zR4znJd"
      },
      "outputs": [],
      "source": [
        "# Reset states generated by Keras\n",
        "tf.keras.backend.clear_session()\n",
        "\n",
        "# Build the Model\n",
        "model = tf.keras.models.Sequential([\n",
        "    tf.keras.layers.Dense(30, input_shape=[window_size], activation=\"relu\"), \n",
        "    tf.keras.layers.Dense(10, activation=\"relu\"),\n",
        "    tf.keras.layers.Dense(1)\n",
        "])"
      ]
    },
    {
      "cell_type": "code",
      "execution_count": 16,
      "metadata": {
        "id": "7FKXvEYxzuoc"
      },
      "outputs": [
        {
          "name": "stdout",
          "output_type": "stream",
          "text": [
            "Epoch 1/100\n",
            "93/93 [==============================] - 2s 7ms/step - loss: 31.8022 - mae: 32.2975\n",
            "Epoch 2/100\n",
            "93/93 [==============================] - 1s 9ms/step - loss: 20.2800 - mae: 20.7740\n",
            "Epoch 3/100\n",
            "93/93 [==============================] - 1s 8ms/step - loss: 19.2446 - mae: 19.7385\n",
            "Epoch 4/100\n",
            "93/93 [==============================] - 1s 8ms/step - loss: 18.9884 - mae: 19.4804\n",
            "Epoch 5/100\n",
            "93/93 [==============================] - 1s 6ms/step - loss: 18.6253 - mae: 19.1185\n",
            "Epoch 6/100\n",
            "93/93 [==============================] - 1s 7ms/step - loss: 18.9421 - mae: 19.4362\n",
            "Epoch 7/100\n",
            "93/93 [==============================] - 1s 8ms/step - loss: 18.0492 - mae: 18.5402\n",
            "Epoch 8/100\n",
            "93/93 [==============================] - 1s 7ms/step - loss: 18.3175 - mae: 18.8110\n",
            "Epoch 9/100\n",
            "93/93 [==============================] - 1s 7ms/step - loss: 18.1285 - mae: 18.6207\n",
            "Epoch 10/100\n",
            "93/93 [==============================] - 1s 7ms/step - loss: 17.9945 - mae: 18.4857\n",
            "Epoch 11/100\n",
            "93/93 [==============================] - 1s 9ms/step - loss: 18.5232 - mae: 19.0171\n",
            "Epoch 12/100\n",
            "93/93 [==============================] - 2s 11ms/step - loss: 17.6233 - mae: 18.1153\n",
            "Epoch 13/100\n",
            "93/93 [==============================] - 1s 9ms/step - loss: 18.0969 - mae: 18.5878\n",
            "Epoch 14/100\n",
            "93/93 [==============================] - 1s 9ms/step - loss: 17.7318 - mae: 18.2229\n",
            "Epoch 15/100\n",
            "93/93 [==============================] - 1s 8ms/step - loss: 17.6878 - mae: 18.1797\n",
            "Epoch 16/100\n",
            "93/93 [==============================] - 1s 7ms/step - loss: 17.2684 - mae: 17.7595\n",
            "Epoch 17/100\n",
            "93/93 [==============================] - ETA: 0s - loss: 17.2973 - mae: 17.789 - 1s 10ms/step - loss: 17.3500 - mae: 17.8423\n",
            "Epoch 18/100\n",
            "93/93 [==============================] - 2s 10ms/step - loss: 17.9315 - mae: 18.4225\n",
            "Epoch 19/100\n",
            "93/93 [==============================] - 1s 9ms/step - loss: 17.4048 - mae: 17.8957\n",
            "Epoch 20/100\n",
            "93/93 [==============================] - 1s 9ms/step - loss: 17.2085 - mae: 17.7010\n",
            "Epoch 21/100\n",
            "93/93 [==============================] - 1s 8ms/step - loss: 17.2351 - mae: 17.7274\n",
            "Epoch 22/100\n",
            "93/93 [==============================] - 1s 12ms/step - loss: 17.1673 - mae: 17.6600\n",
            "Epoch 23/100\n",
            "93/93 [==============================] - 1s 9ms/step - loss: 17.1324 - mae: 17.6234\n",
            "Epoch 24/100\n",
            "93/93 [==============================] - 1s 9ms/step - loss: 17.1212 - mae: 17.6130\n",
            "Epoch 25/100\n",
            "93/93 [==============================] - 1s 8ms/step - loss: 17.1062 - mae: 17.5980\n",
            "Epoch 26/100\n",
            "93/93 [==============================] - 1s 8ms/step - loss: 17.3669 - mae: 17.8587\n",
            "Epoch 27/100\n",
            "93/93 [==============================] - 1s 9ms/step - loss: 16.9826 - mae: 17.4739A: 0s - loss: 16.8842 - mae: 17.375\n",
            "Epoch 28/100\n",
            "93/93 [==============================] - 1s 9ms/step - loss: 16.9413 - mae: 17.4329\n",
            "Epoch 29/100\n",
            "93/93 [==============================] - 1s 9ms/step - loss: 17.2675 - mae: 17.7581A: 0s - loss: 17.2358 - mae\n",
            "Epoch 30/100\n",
            "93/93 [==============================] - 1s 8ms/step - loss: 17.2585 - mae: 17.7505\n",
            "Epoch 31/100\n",
            "93/93 [==============================] - 1s 9ms/step - loss: 17.1355 - mae: 17.6270\n",
            "Epoch 32/100\n",
            "93/93 [==============================] - 1s 10ms/step - loss: 17.0049 - mae: 17.4958\n",
            "Epoch 33/100\n",
            "93/93 [==============================] - 1s 9ms/step - loss: 17.0749 - mae: 17.5651\n",
            "Epoch 34/100\n",
            "93/93 [==============================] - 1s 9ms/step - loss: 16.9462 - mae: 17.4380\n",
            "Epoch 35/100\n",
            "93/93 [==============================] - 1s 9ms/step - loss: 17.0083 - mae: 17.4998\n",
            "Epoch 36/100\n",
            "93/93 [==============================] - 1s 8ms/step - loss: 16.9674 - mae: 17.4591\n",
            "Epoch 37/100\n",
            "93/93 [==============================] - 1s 9ms/step - loss: 16.9132 - mae: 17.4045\n",
            "Epoch 38/100\n",
            "93/93 [==============================] - 1s 9ms/step - loss: 16.7990 - mae: 17.2905\n",
            "Epoch 39/100\n",
            "93/93 [==============================] - 1s 9ms/step - loss: 17.1515 - mae: 17.6429\n",
            "Epoch 40/100\n",
            "93/93 [==============================] - 1s 11ms/step - loss: 17.0742 - mae: 17.5658\n",
            "Epoch 41/100\n",
            "93/93 [==============================] - 1s 9ms/step - loss: 17.0932 - mae: 17.5841\n",
            "Epoch 42/100\n",
            "93/93 [==============================] - 1s 9ms/step - loss: 16.8855 - mae: 17.3746A: 0s - loss: 16.8336 - m\n",
            "Epoch 43/100\n",
            "93/93 [==============================] - 1s 9ms/step - loss: 16.9863 - mae: 17.4788\n",
            "Epoch 44/100\n",
            "93/93 [==============================] - 1s 9ms/step - loss: 16.9661 - mae: 17.4565\n",
            "Epoch 45/100\n",
            "93/93 [==============================] - 1s 8ms/step - loss: 16.8845 - mae: 17.3759\n",
            "Epoch 46/100\n",
            "93/93 [==============================] - 1s 9ms/step - loss: 16.9379 - mae: 17.4279\n",
            "Epoch 47/100\n",
            "93/93 [==============================] - 1s 9ms/step - loss: 17.1351 - mae: 17.6263\n",
            "Epoch 48/100\n",
            "93/93 [==============================] - 1s 9ms/step - loss: 17.0266 - mae: 17.5182\n",
            "Epoch 49/100\n",
            "93/93 [==============================] - ETA: 0s - loss: 16.9927 - mae: 17.4844- ETA: 0s - loss: 16.1911 - mae: - 1s 9ms/step - loss: 17.0649 - mae: 17.5566\n",
            "Epoch 50/100\n",
            "93/93 [==============================] - 1s 9ms/step - loss: 17.0927 - mae: 17.5831\n",
            "Epoch 51/100\n",
            "93/93 [==============================] - 1s 9ms/step - loss: 17.1243 - mae: 17.6152\n",
            "Epoch 52/100\n",
            "93/93 [==============================] - 1s 9ms/step - loss: 17.0397 - mae: 17.5316\n",
            "Epoch 53/100\n",
            "93/93 [==============================] - 1s 8ms/step - loss: 16.8116 - mae: 17.3033\n",
            "Epoch 54/100\n",
            "93/93 [==============================] - 1s 9ms/step - loss: 17.2524 - mae: 17.7429A: 0s - loss: 18.1888 - ma\n",
            "Epoch 55/100\n",
            "93/93 [==============================] - 1s 9ms/step - loss: 16.9153 - mae: 17.4068\n",
            "Epoch 56/100\n",
            "93/93 [==============================] - 1s 9ms/step - loss: 16.9221 - mae: 17.4142\n",
            "Epoch 57/100\n",
            "93/93 [==============================] - 1s 9ms/step - loss: 16.9227 - mae: 17.4137\n",
            "Epoch 58/100\n",
            "93/93 [==============================] - 1s 10ms/step - loss: 17.0112 - mae: 17.5030: 0s - loss: 16.5494 - mae: 17.04 - ETA: 0s - loss: 16.3365 - mae: \n",
            "Epoch 59/100\n",
            "93/93 [==============================] - 1s 10ms/step - loss: 17.1734 - mae: 17.6657\n",
            "Epoch 60/100\n",
            "93/93 [==============================] - 1s 8ms/step - loss: 16.7893 - mae: 17.2805\n",
            "Epoch 61/100\n",
            "93/93 [==============================] - 1s 8ms/step - loss: 16.9849 - mae: 17.4757\n",
            "Epoch 62/100\n",
            "93/93 [==============================] - 1s 8ms/step - loss: 16.7421 - mae: 17.2335\n",
            "Epoch 63/100\n",
            "93/93 [==============================] - 1s 9ms/step - loss: 16.8615 - mae: 17.3535\n",
            "Epoch 64/100\n",
            "93/93 [==============================] - 1s 9ms/step - loss: 16.8615 - mae: 17.3531A: 0s - loss: 18.4915 -\n",
            "Epoch 65/100\n",
            "93/93 [==============================] - 1s 8ms/step - loss: 16.7680 - mae: 17.2592\n",
            "Epoch 66/100\n",
            "93/93 [==============================] - 1s 8ms/step - loss: 16.6745 - mae: 17.1658\n",
            "Epoch 67/100\n",
            "93/93 [==============================] - 1s 9ms/step - loss: 16.8398 - mae: 17.3308\n",
            "Epoch 68/100\n",
            "93/93 [==============================] - 1s 11ms/step - loss: 16.7503 - mae: 17.2425: 1s - loss: 16.9749 - ma\n",
            "Epoch 69/100\n",
            "93/93 [==============================] - 1s 9ms/step - loss: 16.6835 - mae: 17.1744\n",
            "Epoch 70/100\n",
            "93/93 [==============================] - 1s 9ms/step - loss: 16.7417 - mae: 17.2322\n",
            "Epoch 71/100\n",
            "93/93 [==============================] - 1s 9ms/step - loss: 16.6111 - mae: 17.1005A: 0s - loss: 16.5178 - mae: 17.00\n",
            "Epoch 72/100\n",
            "93/93 [==============================] - ETA: 0s - loss: 16.4239 - mae: 16.912 - 1s 9ms/step - loss: 16.6094 - mae: 17.0981\n",
            "Epoch 73/100\n",
            "93/93 [==============================] - 1s 9ms/step - loss: 16.5648 - mae: 17.0549\n",
            "Epoch 74/100\n",
            "93/93 [==============================] - 1s 9ms/step - loss: 16.7460 - mae: 17.2361\n",
            "Epoch 75/100\n",
            "93/93 [==============================] - 1s 9ms/step - loss: 16.7874 - mae: 17.2775\n",
            "Epoch 76/100\n",
            "93/93 [==============================] - 1s 9ms/step - loss: 16.9855 - mae: 17.4750\n",
            "Epoch 77/100\n",
            "93/93 [==============================] - 1s 9ms/step - loss: 16.7485 - mae: 17.2396\n",
            "Epoch 78/100\n",
            "93/93 [==============================] - 1s 8ms/step - loss: 16.7029 - mae: 17.1943\n",
            "Epoch 79/100\n",
            "93/93 [==============================] - 1s 9ms/step - loss: 16.9025 - mae: 17.3927\n",
            "Epoch 80/100\n",
            "93/93 [==============================] - 1s 9ms/step - loss: 16.9862 - mae: 17.4781\n",
            "Epoch 81/100\n",
            "93/93 [==============================] - 1s 9ms/step - loss: 16.8227 - mae: 17.3137\n",
            "Epoch 82/100\n",
            "93/93 [==============================] - 1s 9ms/step - loss: 16.7129 - mae: 17.2035\n",
            "Epoch 83/100\n",
            "93/93 [==============================] - 1s 8ms/step - loss: 16.7490 - mae: 17.2398\n",
            "Epoch 84/100\n",
            "93/93 [==============================] - 1s 9ms/step - loss: 17.0135 - mae: 17.5056\n",
            "Epoch 85/100\n",
            "93/93 [==============================] - 1s 9ms/step - loss: 16.7895 - mae: 17.2823\n",
            "Epoch 86/100\n",
            "93/93 [==============================] - 1s 8ms/step - loss: 16.6598 - mae: 17.1512\n",
            "Epoch 87/100\n",
            "93/93 [==============================] - 1s 9ms/step - loss: 16.5789 - mae: 17.0700\n",
            "Epoch 88/100\n",
            "93/93 [==============================] - 1s 8ms/step - loss: 16.5616 - mae: 17.0508\n",
            "Epoch 89/100\n",
            "93/93 [==============================] - 1s 9ms/step - loss: 16.8444 - mae: 17.3362\n",
            "Epoch 90/100\n",
            "93/93 [==============================] - 1s 9ms/step - loss: 16.8957 - mae: 17.3877\n",
            "Epoch 91/100\n",
            "93/93 [==============================] - 1s 9ms/step - loss: 16.7556 - mae: 17.2458\n",
            "Epoch 92/100\n",
            "93/93 [==============================] - 1s 8ms/step - loss: 16.5506 - mae: 17.0425A: 0s - loss: 16.6462 - mae: 17\n",
            "Epoch 93/100\n",
            "93/93 [==============================] - 1s 9ms/step - loss: 16.5522 - mae: 17.0440\n",
            "Epoch 94/100\n",
            "93/93 [==============================] - 1s 9ms/step - loss: 16.7009 - mae: 17.1913\n",
            "Epoch 95/100\n",
            "93/93 [==============================] - 1s 9ms/step - loss: 16.7594 - mae: 17.2505A: 0s - loss: 16.5396 - mae: \n",
            "Epoch 96/100\n",
            "93/93 [==============================] - 1s 7ms/step - loss: 16.7648 - mae: 17.2567\n",
            "Epoch 97/100\n",
            "93/93 [==============================] - 1s 7ms/step - loss: 16.8021 - mae: 17.2937A: 0s - loss: 15.7316 - mae:\n",
            "Epoch 98/100\n",
            "93/93 [==============================] - 1s 7ms/step - loss: 16.8453 - mae: 17.3362\n",
            "Epoch 99/100\n",
            "93/93 [==============================] - 1s 7ms/step - loss: 16.7034 - mae: 17.1952\n",
            "Epoch 100/100\n",
            "93/93 [==============================] - 1s 6ms/step - loss: 16.5450 - mae: 17.0351\n"
          ]
        }
      ],
      "source": [
        "# Set the learning rate\n",
        "learning_rate = 2e-5\n",
        "\n",
        "# Set the optimizer \n",
        "optimizer = tf.keras.optimizers.SGD(learning_rate=learning_rate, momentum=0.9)\n",
        "\n",
        "# Set the training parameters\n",
        "model.compile(loss=tf.keras.losses.Huber(),\n",
        "              optimizer=optimizer,\n",
        "              metrics=[\"mae\"])\n",
        "\n",
        "# Train the model\n",
        "history = model.fit(train_set,epochs=100)"
      ]
    },
    {
      "cell_type": "markdown",
      "metadata": {
        "id": "b1iV2t8ibIka"
      },
      "source": [
        "## Model Prediction\n",
        "\n",
        "Now see if the model generates good results. If you used the default parameters of this notebook, you should see the predictions follow the shape of the ground truth with an MAE of around 15. "
      ]
    },
    {
      "cell_type": "code",
      "execution_count": 17,
      "metadata": {
        "id": "djn06Tri2B6_"
      },
      "outputs": [],
      "source": [
        "def model_forecast(model, series, window_size, batch_size):\n",
        "    \"\"\"Uses an input model to generate predictions on data windows\n",
        "\n",
        "    Args:\n",
        "      model (TF Keras Model) - model that accepts data windows\n",
        "      series (array of float) - contains the values of the time series\n",
        "      window_size (int) - the number of time steps to include in the window\n",
        "      batch_size (int) - the batch size\n",
        "\n",
        "    Returns:\n",
        "      forecast (numpy array) - array containing predictions\n",
        "    \"\"\"\n",
        "\n",
        "    # Generate a TF Dataset from the series values\n",
        "    dataset = tf.data.Dataset.from_tensor_slices(series)\n",
        "\n",
        "    # Window the data but only take those with the specified size\n",
        "    dataset = dataset.window(window_size, shift=1, drop_remainder=True)\n",
        "\n",
        "    # Flatten the windows by putting its elements in a single batch\n",
        "    dataset = dataset.flat_map(lambda w: w.batch(window_size))\n",
        "    \n",
        "    # Create batches of windows\n",
        "    dataset = dataset.batch(batch_size).prefetch(1)\n",
        "    \n",
        "    # Get predictions on the entire dataset\n",
        "    forecast = model.predict(dataset)\n",
        "    \n",
        "    return forecast"
      ]
    },
    {
      "cell_type": "code",
      "execution_count": 18,
      "metadata": {
        "id": "GaC6NNMRp0lb"
      },
      "outputs": [
        {
          "data": {
            "image/png": "[encoded data removed]",
            "text/plain": [
              "<Figure size 720x432 with 1 Axes>"
            ]
          },
          "metadata": {
            "needs_background": "light"
          },
          "output_type": "display_data"
        }
      ],
      "source": [
        "# Reduce the original series\n",
        "forecast_series = series[split_time-window_size:-1]\n",
        "\n",
        "# Use helper function to generate predictions\n",
        "forecast = model_forecast(model, forecast_series, window_size, batch_size)\n",
        "\n",
        "# Drop single dimensional axis\n",
        "results = forecast.squeeze()\n",
        "\n",
        "# Plot the results\n",
        "plot_series(time_valid, (x_valid, results))"
      ]
    },
    {
      "cell_type": "code",
      "execution_count": 19,
      "metadata": {
        "id": "13XrorC5wQoE"
      },
      "outputs": [
        {
          "name": "stdout",
          "output_type": "stream",
          "text": [
            "14.609202\n"
          ]
        }
      ],
      "source": [
        "# Compute the MAE\n",
        "print(tf.keras.metrics.mean_absolute_error(x_valid, results).numpy())"
      ]
    },
    {
      "cell_type": "markdown",
      "metadata": {
        "id": "YqMGN9S5veN2"
      },
      "source": [
        "## Wrap Up\n",
        "\n",
        "In this lab, you built a relatively simple DNN to forecast sunspot numbers for a given month. We encourage you to tweak the parameters or train longer and see the best results you can get. In the next lab, you will build a more complex model and you evaluate if the added complexity translates to better or worse results."
      ]
    }
  ],
  "metadata": {
    "colab": {
      "name": "C4_W4_Lab_2_Sunspots_DNN.ipynb",
      "private_outputs": true,
      "provenance": []
    },
    "kernelspec": {
      "display_name": "Python 3",
      "language": "python",
      "name": "python3"
    },
    "language_info": {
      "codemirror_mode": {
        "name": "ipython",
        "version": 3
      },
      "file_extension": ".py",
      "mimetype": "text/x-python",
      "name": "python",
      "nbconvert_exporter": "python",
      "pygments_lexer": "ipython3",
      "version": "3.8.3 (tags/v3.8.3:6f8c832, May 13 2020, 22:37:02) [MSC v.1924 64 bit (AMD64)]"
    },
    "vscode": {
      "interpreter": {
        "hash": "9650cb4e16cdd4a8e8e2d128bf38d875813998db22a3c986335f89e0cb4d7bb2"
      }
    }
  },
  "nbformat": 4,
  "nbformat_minor": 0
}
